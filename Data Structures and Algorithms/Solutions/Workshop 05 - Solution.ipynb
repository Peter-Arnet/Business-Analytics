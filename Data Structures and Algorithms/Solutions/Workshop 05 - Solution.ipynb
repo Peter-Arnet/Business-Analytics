{
 "cells": [
  {
   "cell_type": "markdown",
   "metadata": {},
   "source": [
    "# Workshop 5: Accessing data on the web\n",
    "\n",
    "_BS1819 Data Structures and Algorithms_\n",
    "\n",
    "_Imperial College Business School_\n",
    "\n",
    "\n",
    "---\n",
    "In this workshop we'll practice web scraping and dealing with data from APIs.\n",
    "\n",
    "---\n"
   ]
  },
  {
   "cell_type": "markdown",
   "metadata": {},
   "source": [
    "## Submission\n",
    "\n",
    "This workshop is meant to be open-ended, and there is no submission. "
   ]
  },
  {
   "cell_type": "markdown",
   "metadata": {},
   "source": [
    "## Trump tweets, JSON edition\n",
    "\n",
    "Earlier in the course, we looked at some of Donald Trump's tweets that had been conveniently packaged into a CSV file that we could open as a spreadsheet. The dataset we used ended in summer 2016. What if we wanted to analyse more recent tweets? We could do this by registering for access to [Twitter's API](https://dev.twitter.com/rest/public) and downloading the data directly using one of the [libraries](https://dev.twitter.com/resources/twitter-libraries) that Python users have developed for accessing the API. \n",
    "\n",
    "We won't register for the API today. Instead, we'll use the data maintained by Github user [bpb27](https://github.com/bpb27/trump_tweet_data_archive). \n",
    "\n",
    "Let's use Python to download Trump tweets for the entire year 2016."
   ]
  },
  {
   "cell_type": "code",
   "execution_count": 1,
   "metadata": {
    "collapsed": true
   },
   "outputs": [],
   "source": [
    "import requests\n",
    "import zipfile \n",
    "import io\n",
    "\n",
    "# Github data URL. Option raw=true makes sure we get the data file and not the Github HTML page\n",
    "tweet_url = 'https://github.com/bpb27/trump_tweet_data_archive/blob/master/condensed_2016.json.zip?raw=true'\n",
    "\n",
    "# Get zip file\n",
    "r = requests.get(tweet_url)\n",
    "\n",
    "# Tell Python to treat downloaded file as zip file -> extract the archive\n",
    "z = zipfile.ZipFile(io.BytesIO(r.content))\n",
    "z.extractall()"
   ]
  },
  {
   "cell_type": "markdown",
   "metadata": {},
   "source": [
    "When we get data from the Twitter API, it doesn't come in a spreadsheet format, but as JSON. The above code will have created the JSON file `condensed_2016.json` in your working directory (where this notebook is located).\n",
    "\n",
    "We could read the JSON file to Python as we would any text file, or open it in Notepad or another text editor. "
   ]
  },
  {
   "cell_type": "code",
   "execution_count": 2,
   "metadata": {},
   "outputs": [
    {
     "name": "stdout",
     "output_type": "stream",
     "text": [
      "[{\"source\": \"Twitter for iPhone\", \"id_str\": \"815271067749060609\", \"text\": \"RT @realDonaldTrump: Happy Birthday @DonaldJTrumpJr!\\nhttps://t.co/uRxyCD3hBz\", \"created_at\": \"Sat Dec 31 18:59:04 +0000 2016\", \"retweet_count\": 9529, \"in_reply_to_user_id_str\": null, \"favorite_count\": 0, \"is_retweet\": true}, {\"source\": \"Twitter for iPhone\", \"id_str\": \"815270850916208644\", \"text\": \"Happy Birthday @DonaldJTrumpJr!\\nhttps://t.co/uRxyCD3hBz\", \"created_at\": \"Sat Dec 31 18:58:12 +0000 2016\", \"retweet_count\": 9\n"
     ]
    }
   ],
   "source": [
    "json_file_name = 'condensed_2016.json'\n",
    "with open(json_file_name, encoding='utf8') as f:\n",
    "    text = f.read()\n",
    "\n",
    "# Print first characters of resulting string \n",
    "print(text[0:500]) "
   ]
  },
  {
   "cell_type": "markdown",
   "metadata": {},
   "source": [
    "We could parse through the string looking for different aspects of each tweet. But it's much more convenient to use a library that directly exploits the structure of JSON."
   ]
  },
  {
   "cell_type": "code",
   "execution_count": 3,
   "metadata": {
    "collapsed": true
   },
   "outputs": [],
   "source": [
    "import json\n",
    "json_file_name = 'condensed_2016.json'\n",
    "with open(json_file_name, encoding='utf8') as f:\n",
    "        tweet_data = json.load(f)"
   ]
  },
  {
   "cell_type": "markdown",
   "metadata": {},
   "source": [
    "The result is a Python list of dictionaries containing the tweets."
   ]
  },
  {
   "cell_type": "code",
   "execution_count": 4,
   "metadata": {},
   "outputs": [
    {
     "data": {
      "text/plain": [
       "[{'source': 'Twitter for iPhone',\n",
       "  'id_str': '815271067749060609',\n",
       "  'text': 'RT @realDonaldTrump: Happy Birthday @DonaldJTrumpJr!\\nhttps://t.co/uRxyCD3hBz',\n",
       "  'created_at': 'Sat Dec 31 18:59:04 +0000 2016',\n",
       "  'retweet_count': 9529,\n",
       "  'in_reply_to_user_id_str': None,\n",
       "  'favorite_count': 0,\n",
       "  'is_retweet': True},\n",
       " {'source': 'Twitter for iPhone',\n",
       "  'id_str': '815270850916208644',\n",
       "  'text': 'Happy Birthday @DonaldJTrumpJr!\\nhttps://t.co/uRxyCD3hBz',\n",
       "  'created_at': 'Sat Dec 31 18:58:12 +0000 2016',\n",
       "  'retweet_count': 9529,\n",
       "  'in_reply_to_user_id_str': None,\n",
       "  'favorite_count': 55601,\n",
       "  'is_retweet': False}]"
      ]
     },
     "execution_count": 4,
     "metadata": {},
     "output_type": "execute_result"
    }
   ],
   "source": [
    "tweet_data[0:2]"
   ]
  },
  {
   "cell_type": "markdown",
   "metadata": {},
   "source": [
    "Now let's study patterns in the data."
   ]
  },
  {
   "cell_type": "markdown",
   "metadata": {},
   "source": [
    "### Up all night?\n",
    "\n",
    "Let's start by analysing President Trump's sleep patterns. Create a count of the number of tweets by hour of the day. You can use `matplotlib` to plot the result. You can do a line chart following [the first example here](https://matplotlib.org/users/pyplot_tutorial.html), or a bar chart following [this example](https://pythonspot.com/en/matplotlib-bar-chart/).\n",
    "\n",
    "You could also check how this pattern changes over different months.\n",
    "\n",
    "Here's how you can get the hour from a tweet timestamp using the `datetime` module."
   ]
  },
  {
   "cell_type": "code",
   "execution_count": 5,
   "metadata": {},
   "outputs": [
    {
     "name": "stdout",
     "output_type": "stream",
     "text": [
      "{'source': 'Twitter for iPhone', 'id_str': '815271067749060609', 'text': 'RT @realDonaldTrump: Happy Birthday @DonaldJTrumpJr!\\nhttps://t.co/uRxyCD3hBz', 'created_at': 'Sat Dec 31 18:59:04 +0000 2016', 'retweet_count': 9529, 'in_reply_to_user_id_str': None, 'favorite_count': 0, 'is_retweet': True}\n",
      "Sat Dec 31 18:59:04 +0000 2016\n",
      "2016 12 31 18\n"
     ]
    },
    {
     "data": {
      "text/plain": [
       "int"
      ]
     },
     "execution_count": 5,
     "metadata": {},
     "output_type": "execute_result"
    }
   ],
   "source": [
    "from datetime import datetime\n",
    "\n",
    "# Get first tweet\n",
    "tw = tweet_data[0]\n",
    "print(tw)\n",
    "# We see the timestamp is at the field 'created_at'\n",
    "\n",
    "# Get timestamp of the tweet\n",
    "date_str = tw['created_at']\n",
    "print(date_str)\n",
    "\n",
    "# Make into datetime object, get the attributes of the result\n",
    "dt = datetime.strptime(date_str,'%a %b %d %H:%M:%S +0000 %Y') # specify format of time string\n",
    "print(dt.year, dt.month, dt.day, dt.hour)\n",
    "type(dt.hour)"
   ]
  },
  {
   "cell_type": "markdown",
   "metadata": {},
   "source": [
    "Now count all tweets by hour. One way to do this is creating a dictionary with keys as hours and values as counts.\n",
    "\n",
    "#### Sidebar: dictionary comprehension\n",
    "\n",
    "Python has a convenient way of reducing the work we need to do for writing loops called _comprehensions_. We can write a loop to create a dictionary in a single line as follows. The same kind of thing can be done to create lists too."
   ]
  },
  {
   "cell_type": "code",
   "execution_count": 6,
   "metadata": {},
   "outputs": [
    {
     "data": {
      "text/plain": [
       "{0: 0,\n",
       " 1: 0,\n",
       " 2: 0,\n",
       " 3: 0,\n",
       " 4: 0,\n",
       " 5: 0,\n",
       " 6: 0,\n",
       " 7: 0,\n",
       " 8: 0,\n",
       " 9: 0,\n",
       " 10: 0,\n",
       " 11: 0,\n",
       " 12: 0,\n",
       " 13: 0,\n",
       " 14: 0,\n",
       " 15: 0,\n",
       " 16: 0,\n",
       " 17: 0,\n",
       " 18: 0,\n",
       " 19: 0,\n",
       " 20: 0,\n",
       " 21: 0,\n",
       " 22: 0,\n",
       " 23: 0}"
      ]
     },
     "execution_count": 6,
     "metadata": {},
     "output_type": "execute_result"
    }
   ],
   "source": [
    "# Initialize dictionary of zero hourly counts using dictionary comprehension\n",
    "# Dictionary specified as key->hour, value->zero for each hour value in the range\n",
    "hourly_counts = {hour:0 for hour in range(24)}\n",
    "hourly_counts"
   ]
  },
  {
   "cell_type": "markdown",
   "metadata": {},
   "source": [
    "You may find using this kind of initialization useful in the exercises."
   ]
  },
  {
   "cell_type": "code",
   "execution_count": 8,
   "metadata": {},
   "outputs": [
    {
     "name": "stdout",
     "output_type": "stream",
     "text": [
      "{0: 0, 1: 0, 2: 0, 3: 0, 4: 0, 5: 0, 6: 0, 7: 0, 8: 0, 9: 0, 10: 0, 11: 0, 12: 0, 13: 0, 14: 0, 15: 0, 16: 0, 17: 0, 18: 0, 19: 0, 20: 0, 21: 0, 22: 0, 23: 0}\n",
      "{0: 196, 1: 287, 2: 301, 3: 204, 4: 110, 5: 68, 6: 32, 7: 10, 8: 2, 9: 23, 10: 97, 11: 189, 12: 225, 13: 271, 14: 231, 15: 205, 16: 239, 17: 188, 18: 215, 19: 217, 20: 219, 21: 263, 22: 231, 23: 202}\n"
     ]
    },
    {
     "data": {
      "image/png": "[encoded data removed]",
      "text/plain": [
       "<Figure size 432x288 with 1 Axes>"
      ]
     },
     "metadata": {
      "needs_background": "light"
     },
     "output_type": "display_data"
    }
   ],
   "source": [
    "# Initialize dictionary at zero counts using \"dictionary comprehension\"\n",
    "hourly_counts = {hour:0 for hour in range(24)}\n",
    "print(hourly_counts)\n",
    "\n",
    "for tweet in tweet_data:\n",
    "    # Your code here\n",
    "    date_str = tweet['created_at']\n",
    "    dt = datetime.strptime(date_str,'%a %b %d %H:%M:%S +0000 %Y')\n",
    "    hourly_counts[dt.hour] += 1\n",
    "    \n",
    "print(hourly_counts)\n",
    "\n",
    "\n",
    "import matplotlib.pyplot as plt\n",
    "%matplotlib inline \n",
    "\n",
    "x_values = list(hourly_counts.keys())\n",
    "y_values = list(hourly_counts.values())\n",
    "x_pos = x_values\n",
    "plt.plot(x_values, y_values)\n",
    "plt.xticks(x_pos, x_values)\n",
    "plt.ylabel('Tweet count')\n",
    "plt.xlabel('Hour')\n",
    "plt.title('Trump tweets by hour')\n",
    "plt.show()"
   ]
  },
  {
   "cell_type": "markdown",
   "metadata": {},
   "source": [
    "### Who's tweeting?\n",
    "\n",
    "It appears that there are different sources for the tweets in the `source` field of the data. \n",
    "\n",
    "Create an hourly count of tweets by the different sources. Can you infer what this suggests about Mr Trump's personal phone and the one his office uses for tweeting?\n",
    "\n",
    "Let's first find all the sources that are in the data. "
   ]
  },
  {
   "cell_type": "code",
   "execution_count": 9,
   "metadata": {},
   "outputs": [
    {
     "name": "stdout",
     "output_type": "stream",
     "text": [
      "{'Instagram', 'TweetDeck', 'Twitter for iPhone', 'Media Studio', 'Twitter Web Client', 'Twitter Ads', 'Periscope', 'Mobile Web (M5)', 'Twitter for Android', 'Twitter for iPad'}\n"
     ]
    }
   ],
   "source": [
    "sources = set()\n",
    "for tweet in tweet_data:\n",
    "    if tweet['source'] not in sources:\n",
    "        sources.add(tweet['source'])\n",
    "        \n",
    "print(sources)"
   ]
  },
  {
   "cell_type": "markdown",
   "metadata": {},
   "source": [
    "Which are the most common sources and what do their timings suggest about usage?"
   ]
  },
  {
   "cell_type": "code",
   "execution_count": 10,
   "metadata": {},
   "outputs": [
    {
     "data": {
      "image/png": "[encoded data removed]",
      "text/plain": [
       "<Figure size 432x288 with 1 Axes>"
      ]
     },
     "metadata": {
      "needs_background": "light"
     },
     "output_type": "display_data"
    }
   ],
   "source": [
    "# Your code here\n",
    "\n",
    "# Initialize a dictionary where each source has a count like above.\n",
    "tweets_by_source = {src:{hour:0 for hour in range(24)} for src in sources}\n",
    "tweets_by_source['Twitter for iPhone']\n",
    "\n",
    "\n",
    "for tweet in tweet_data:\n",
    "    # Your code here\n",
    "    src = tweet['source']\n",
    "    date_str = tweet['created_at']\n",
    "    dt = datetime.strptime(date_str,'%a %b %d %H:%M:%S +0000 %Y')\n",
    "    tweets_by_source[src][dt.hour] += 1\n",
    "\n",
    "sources_to_plot = ['Twitter for iPhone', 'Twitter for Android']\n",
    "for src in sources_to_plot:\n",
    "    x_values = list(tweets_by_source[src].keys())\n",
    "    y_values = list(tweets_by_source[src].values())\n",
    "    x_pos = x_values\n",
    "\n",
    "    plt.plot(x_pos, y_values)\n",
    "    plt.xticks(x_pos, x_values)\n",
    "    plt.ylabel('Tweet count')\n",
    "    plt.xlabel('Hour')\n",
    "    plt.title('Trump tweets by hour')\n",
    "    plt.legend(sources_to_plot)\n",
    " \n",
    "plt.show()"
   ]
  },
  {
   "cell_type": "markdown",
   "metadata": {},
   "source": [
    "### Getting personal?\n",
    "\n",
    "How do the contents of Mr Trump's tweets change depending on the source? We could do some really sophisticated analysis here through [sentiment analysis](http://text-processing.com/demo/sentiment/) of the tweet texts. For the purposes of this exercise, do the following calculations by tweet source:\n",
    "\n",
    "1. Find the fraction of tweets containing the word 'dumb' in either upper or lower case.\n",
    "\n",
    "2. Repeat for words you'd like, for example the ones suggested below.\n",
    "\n",
    "You can also repeat the analysis by source and hour, or look at different words or mentions of different Twitter users. \n",
    "\n",
    "Note you probably want to count both upper and lower case words together.\n"
   ]
  },
  {
   "cell_type": "code",
   "execution_count": 11,
   "metadata": {},
   "outputs": [
    {
     "name": "stdout",
     "output_type": "stream",
     "text": [
      "\"Dumb\" fractions\n",
      "{'Instagram': 0.0, 'TweetDeck': 0.0, 'Twitter for iPhone': 0.0030643513789581204, 'Media Studio': 0.0, 'Twitter Web Client': 0.0029411764705882353, 'Twitter Ads': 0.0, 'Periscope': 0.0, 'Mobile Web (M5)': 0.0, 'Twitter for Android': 0.008174386920980926, 'Twitter for iPad': 0.045454545454545456}\n"
     ]
    }
   ],
   "source": [
    "# Your code here\n",
    "words = ['dumb', 'brexit', '#makeamericagreatagain', 'guns', 'dead', '#crookedhillary']\n",
    "\n",
    "word_counts = {word:{src:0 for src in sources} for word in words}\n",
    "tweet_counts = {src:0 for src in sources}\n",
    "\n",
    "\n",
    "for tweet in tweet_data:\n",
    "    # Your code here\n",
    "    src = tweet['source']\n",
    "    tw_text = tweet['text']\n",
    "    for word in words:\n",
    "        if word in tw_text.lower():\n",
    "            word_counts[word][src] +=1\n",
    "    tweet_counts[src] +=1\n",
    "\n",
    "print('\"Dumb\" fractions')\n",
    "print({src:word_counts['dumb'][src]/tweet_counts[src] for src in word_counts['dumb']})"
   ]
  },
  {
   "cell_type": "markdown",
   "metadata": {},
   "source": [
    "## Accessing the web\n",
    "\n",
    "The Twitter API provides us with data conveniently in a JSON-structured format, but not all websites have as convenient ways for us to download data. If we still want to extract data from the site, we can access web pages directly using Python. \n",
    "\n",
    "When we access a web page directly, we'll replicate in Python what our web browser does when we visit a web page. We contact a website and load the web page, which is typically a HTML file. An HTML file is a text file that includes not only the content of a web page, but also instructions for the browser on how to display the content, for example in paragraphs, tables, bold font, links, and so on. \n",
    "\n",
    "When accessing the HTML text file in Python, we'll take advantage of this structure (e.g. identifiers for links) to extract the information we're interested in."
   ]
  },
  {
   "cell_type": "markdown",
   "metadata": {},
   "source": [
    "We'll look at the problem of finding a good breakfast in the UK. [This article from the Guardian](https://www.theguardian.com/lifeandstyle/2017/jan/15/50-best-breakfasts-uk) purports to list the 50 best breakfasts in the UK.\n",
    "\n",
    "The list has interesting information, but in an unstructured form. Suppose we wanted to remember these whenever we're visiting a different city. We might want to store them in a file on our computer or online for easy access. We'll use Python to make this transformation.\n",
    "\n",
    "### HTML view\n",
    "\n",
    "The web page lists the restaurants, giving links, locations, and a short description of each. Let's look at how the undrlying HTML file looks like. When viewing a web page in a browser, we can typically do this with the shortcut `Ctrl + U`. This will open the HTML source in a new tab.\n",
    "\n",
    "The file is huge, with 3000 lines of text. We won't go into details of the HTML here, but instead look for the part in the file where the restaurants are presented. The first restaurant is in \"Lewannick\", so let's look for that in the source with `Ctrl + F`. We see the following result.\n",
    "\n",
    "```html\n",
    "<h2><strong><a href=\"http://www.coombesheadfarm.co.uk/\" data-link-name=\"in body link\" class=\"u-underline\">Coombeshead Farm</a></strong><strong>, Lewannick, Cornwall</strong><br></h2>\n",
    "<p>It might seem a bit bonkers to include an upmarket B&amp;B (from £90 a night) that doesn’t offer breakfast to non-residents (for the time being), but Coombeshead earns its place here because it does possibly the best breakfast in the UK, and certainly this writer’s favourite of 2016 anywhere.</p>\n",
    "```\n",
    "Compare this to the website as it is displayed in your browser and try to link the different parts together.\n",
    "\n",
    "\n",
    "Let's parse the first restaurant details from the HTML code. Above, the text \", Lewannick, Cornwall\" is packaged in between the HTML _tags_ `<strong>` and `</strong>`. The web browser uses HTML tags to display contents in a specific way, here in **bold** font. The tag `<strong>` is the opening tag which starts the emphasized text, and `</strong>` with a slash is the closing tag which ends the emphasis.\n",
    "\n",
    "\n",
    "Similarly, the text \"Coombeshead Farm\" is packaged in between the HTML _tags_ `<a>` and `</a>`:\n",
    "```html\n",
    "<a href=\"http://www.coombesheadfarm.co.uk/\" data-link-name=\"in body link\" class=\"u-underline\">Coombeshead Farm</a>\n",
    "```\n",
    "This is the HTML way of specifying a link to another page. The tag `<a href=\"http://www.coombesheadfarm.co.uk/\">` is the opening tag which creates the link to the restaurant's website. The tag `</a>` closes the tag: in between these, the text \"Coombeshead Farm\" is what gets displayed on the web page as the link text. Here, the tag has three _attributes_: `href` specifying the link address, and `data-link-name=\"in body link\"` and `class=\"u-underline\"`, which the browser uses to determine how the link is shown.\n",
    "\n",
    "There are many different HTML tags, which the web browser uses to display contents in a specific way. We will similarly use them to pick the data we'd like from the page.\n",
    "\n",
    "### Getting the data\n",
    "\n",
    "We'll use the `requests` library to download the page HTML into Python. The code below fetches the page, and stores the result in `r`, which is a \"response\" object that the library creates. The object has a `text` attribute, which contains the HTML of the page."
   ]
  },
  {
   "cell_type": "code",
   "execution_count": 12,
   "metadata": {},
   "outputs": [
    {
     "data": {
      "text/plain": [
       "'\\n<!DOCTYPE html>\\n<html id=\"js-context\" class=\"js-off is-not-modern id--signed-out\" lang=\"en\" data-page-path=\"/lifeandstyle/2017/jan/15/50-best-breakfasts-uk\">\\n<head>\\n<!--\\n     __        __                      _     _      _\\n     \\\\ \\\\      / /__    __ _ _ __ ___  | |__ (_)_ __(_)_ __   __ _\\n      \\\\ \\\\ /\\\\ / / _ \\\\  / _` | \\'__/ _ \\\\ | \\'_ \\\\| | \\'__| | \\'_ \\\\ / _` |\\n       \\\\ V  V /  __/ | (_| | | |  __/ | | | | | |  | | | | | (_| |\\n        \\\\_/\\\\_/ \\\\___|  \\\\__,_|_|  \\\\___| |_| |_|_|_|  |_|_| |_|\\\\__, |\\n        '"
      ]
     },
     "execution_count": 12,
     "metadata": {},
     "output_type": "execute_result"
    }
   ],
   "source": [
    "import requests\n",
    "r = requests.get(\"https://www.theguardian.com/lifeandstyle/2017/jan/15/50-best-breakfasts-uk\")\n",
    "r.text[:500]"
   ]
  },
  {
   "cell_type": "markdown",
   "metadata": {},
   "source": [
    "We'll parse the HTML using the `BeautifulSoup 4` library. Let's import it and parse the text. The code below creates a `soup` object that the Beautiful Soup library works with. Similarly to a web browser, Beautiful Soup takes advantage of the tag structure of the web page, not to display it, but to parse for the information that we'd like to store."
   ]
  },
  {
   "cell_type": "code",
   "execution_count": 13,
   "metadata": {
    "collapsed": true
   },
   "outputs": [],
   "source": [
    "from bs4 import BeautifulSoup  \n",
    "soup = BeautifulSoup(r.text, 'lxml')  "
   ]
  },
  {
   "cell_type": "markdown",
   "metadata": {},
   "source": [
    "### Collecting restaurants\n",
    "\n",
    "We'd like to get all 50 restaurants' names, locations, and websites. Let's take another look at the HTML source.\n",
    "\n",
    "```html\n",
    "<h2><strong><a href=\"http://www.coombesheadfarm.co.uk/\" data-link-name=\"in body link\" class=\"u-underline\">Coombeshead Farm</a></strong><strong>, Lewannick, Cornwall</strong><br></h2>\n",
    "<p>It might seem a bit bonkers to include an upmarket B&amp;B (from £90 a night) that doesn’t offer breakfast to non-residents (for the time being), but Coombeshead earns its place here because it does possibly the best breakfast in the UK, and certainly this writer’s favourite of 2016 anywhere.</p>\n",
    "```\n",
    "\n",
    "It looks like the structure of the data we'd like is roughly the following.\n",
    "```html\n",
    "<h2><strong><a href=\"WEBPAGE LINK\" data-link-name=\"in body link\" class=\"u-underline\">RESTAURANT NAME</a></strong><strong>, LOCATION</strong><br></h2>\n",
    "```\n",
    "There's an outer `<h2>` tag which specifies a header, a `<strong>` tag and an `<a>` tag fpr the link and the name, and another `<strong>` tag for the location.\n",
    "\n",
    "We'd like to pick the three capitalized parts for all restaurants. We can search for tags in Beautiful Soup as follows."
   ]
  },
  {
   "cell_type": "code",
   "execution_count": 14,
   "metadata": {},
   "outputs": [
    {
     "name": "stdout",
     "output_type": "stream",
     "text": [
      "[<h2><strong><a class=\"u-underline\" data-link-name=\"in body link\" href=\"http://www.coombesheadfarm.co.uk/\">Coombeshead Farm</a></strong><strong>, Lewannick, Cornwall</strong><br/></h2>, <h2><a class=\"u-underline\" data-link-name=\"in body link\" href=\"http://cafealfresco.co.uk/page/eat\"><strong>Café Alf Resco</strong></a><strong>, Dartmouth, Devon</strong></h2>]\n"
     ]
    },
    {
     "data": {
      "text/plain": [
       "<p>It might seem a bit bonkers to include an upmarket B&amp;B (from £90 a night) that doesn’t offer breakfast to non-residents (for the time being), but Coombeshead earns its place here because it does possibly the best breakfast in the UK, and certainly this writer’s favourite of 2016 anywhere.</p>"
      ]
     },
     "execution_count": 14,
     "metadata": {},
     "output_type": "execute_result"
    }
   ],
   "source": [
    "results = soup.find_all('h2') # find all h2 tags\n",
    "print(results[0:2])\n",
    "\n",
    "anchor = soup.findAll('h2')[0]\n",
    "\n",
    "x = anchor.next_sibling\n",
    "x.next_sibling"
   ]
  },
  {
   "cell_type": "markdown",
   "metadata": {},
   "source": [
    "Let's see how we can extract the information we want from each restaurant. We can take the first result we found, and apply Beautiful Soup's find method to it again to find (the first) link. The link will have the _attribute_ text and contain the actual link as `link['href']`."
   ]
  },
  {
   "cell_type": "code",
   "execution_count": 15,
   "metadata": {},
   "outputs": [
    {
     "name": "stdout",
     "output_type": "stream",
     "text": [
      "http://www.coombesheadfarm.co.uk/ Coombeshead Farm\n",
      "Lewannick, Cornwall\n"
     ]
    }
   ],
   "source": [
    "# Find link in first result\n",
    "link = results[0].find('a') # find link\n",
    "name = link.text # get text\n",
    "url = link['href'] # get link address\n",
    "print(url, name)\n",
    "\n",
    "# Find the location\n",
    "location = results[0].find_all('strong')[1].text\n",
    "location = location[2:] # Get rid of leading comma\n",
    "print(location)"
   ]
  },
  {
   "cell_type": "markdown",
   "metadata": {},
   "source": [
    "### Scraping is messy\n",
    "\n",
    "Now try to write a loop that repeats this for all the restaurants. Store the results in a list containing dictionary entries as follows:\n",
    "```python\n",
    "[{'Restaurant':name, 'Web page':url, 'Location':location}]\n",
    "```\n",
    "\n",
    "At some point you may run into trouble. This is because we have not just picked all restaurants, but other things in the article also have the `<h2>` tag. Some of the results will thus not contain the information we want, and we need to prune them  further. Try to work your loop around this, and other issues you'll run into, to pick the 50 restaurants."
   ]
  },
  {
   "cell_type": "code",
   "execution_count": 16,
   "metadata": {},
   "outputs": [
    {
     "data": {
      "text/plain": [
       "54"
      ]
     },
     "execution_count": 16,
     "metadata": {},
     "output_type": "execute_result"
    }
   ],
   "source": [
    "# Your code here\n",
    "result_list = []\n",
    "\n",
    "for result in results:\n",
    "    if not result.find('strong'):\n",
    "        continue\n",
    "    link = result.find('a') # find link\n",
    "    try:\n",
    "        name = link.text\n",
    "        url = link['href'] # get link address\n",
    "    except AttributeError:\n",
    "        name = result.find('strong').text\n",
    "        url = ''\n",
    "    if len(result.find_all('strong')) == 2:\n",
    "        location = result.find_all('strong')[1].text\n",
    "    else:\n",
    "        location = result.find('strong').text\n",
    "    location = location.lstrip(', ')\n",
    "    result_list.append({'Restaurant':name,'Web page':url, 'Location':location})\n",
    "\n",
    "len(result_list)"
   ]
  },
  {
   "cell_type": "code",
   "execution_count": 17,
   "metadata": {},
   "outputs": [
    {
     "data": {
      "text/plain": [
       "[{'Restaurant': 'Coombeshead Farm',\n",
       "  'Web page': 'http://www.coombesheadfarm.co.uk/',\n",
       "  'Location': 'Lewannick, Cornwall'},\n",
       " {'Restaurant': 'Café Alf Resco',\n",
       "  'Web page': 'http://cafealfresco.co.uk/page/eat',\n",
       "  'Location': 'Dartmouth, Devon'},\n",
       " {'Restaurant': 'Venus Cafe,',\n",
       "  'Web page': 'http://www.lovingthebeach.co.uk/blackpool-sands/',\n",
       "  'Location': 'Blackpool Sands, Devon'},\n",
       " {'Restaurant': 'Bakers and Co',\n",
       "  'Web page': 'http://bakersbristol.co.uk/',\n",
       "  'Location': 'Bristol'},\n",
       " {'Restaurant': 'Cantina',\n",
       "  'Web page': 'http://cantinaventnor.co.uk/',\n",
       "  'Location': 'Ventnor, Isle of Wight'},\n",
       " {'Restaurant': 'Hart’s Bakery',\n",
       "  'Web page': 'http://www.hartsbakery.co.uk/',\n",
       "  'Location': 'Bristol'},\n",
       " {'Restaurant': 'The Jericho Cafe',\n",
       "  'Web page': 'http://www.thejerichocafe.co.uk/',\n",
       "  'Location': 'Oxford'},\n",
       " {'Restaurant': 'Lynwood & Co',\n",
       "  'Web page': 'https://www.facebook.com/pg/lynwoodandcocafe/about/',\n",
       "  'Location': 'Lynwood & Co, Lechlade, Gloucestershire'},\n",
       " {'Restaurant': 'Saddleback Farm Shop',\n",
       "  'Web page': 'http://www.saddlebackfarmshop.co.uk/',\n",
       "  'Location': 'Brightwalton, Berkshire'},\n",
       " {'Restaurant': 'Workhouse Coffee',\n",
       "  'Web page': 'http://www.workhousecoffee.co.uk/',\n",
       "  'Location': 'Reading'},\n",
       " {'Restaurant': 'The Greedy Pig Kitchen',\n",
       "  'Web page': 'http://www.thegreedypigkitchen.co.uk/',\n",
       "  'Location': 'Leeds'},\n",
       " {'Restaurant': 'Laynes',\n",
       "  'Web page': 'http://www.laynesespresso.co.uk/#laynesespresso',\n",
       "  'Location': 'Leeds'},\n",
       " {'Restaurant': 'The Pig & Pastry',\n",
       "  'Web page': 'http://thepigandpastry.com/',\n",
       "  'Location': 'York'},\n",
       " {'Restaurant': 'Starks Kitchen',\n",
       "  'Web page': 'http://starkskitchen.co.uk/',\n",
       "  'Location': 'Newcastle upon Tyne'},\n",
       " {'Restaurant': 'Tamper Coffee',\n",
       "  'Web page': 'https://tampercoffee.co.uk/',\n",
       "  'Location': 'Sheffield'},\n",
       " {'Restaurant': 'Quay Ingredient',\n",
       "  'Web page': 'http://quayingredient.co.uk/',\n",
       "  'Location': 'Newcastle upon Tyne'},\n",
       " {'Restaurant': 'The north-west',\n",
       "  'Web page': '',\n",
       "  'Location': 'The north-west'},\n",
       " {'Restaurant': 'Market House',\n",
       "  'Web page': 'http://www.altrinchammarket.co.uk/',\n",
       "  'Location': 'Altrincham'},\n",
       " {'Restaurant': 'Baba Ganoush',\n",
       "  'Web page': 'http://www.baba-ganoush.co.uk/',\n",
       "  'Location': 'Kendal, Cumbria'},\n",
       " {'Restaurant': 'Common',\n",
       "  'Web page': 'http://www.aplacecalledcommon.co.uk/',\n",
       "  'Location': 'Manchester'},\n",
       " {'Restaurant': 'The Koffee Pot',\n",
       "  'Web page': 'http://www.thekoffeepot.co.uk/',\n",
       "  'Location': 'The Koffee Pot'},\n",
       " {'Restaurant': 'Moose Coffee',\n",
       "  'Web page': 'http://www.moosecoffee.co/',\n",
       "  'Location': 'various locations'},\n",
       " {'Restaurant': 'Northcote',\n",
       "  'Web page': 'http://www.northcote.com/',\n",
       "  'Location': 'Langho, Lancashire'},\n",
       " {'Restaurant': 'Three Hares',\n",
       "  'Web page': 'http://www.threeharescafe.co.uk/#introduction',\n",
       "  'Location': 'Sedbergh, Cumbria'},\n",
       " {'Restaurant': 'The Midlands and East Anglia',\n",
       "  'Web page': '',\n",
       "  'Location': 'The Midlands and East Anglia'},\n",
       " {'Restaurant': 'No 33',\n",
       "  'Web page': 'http://www.no33cafe.co.uk/',\n",
       "  'Location': 'No 33'},\n",
       " {'Restaurant': 'Kitchen Garden Cafe',\n",
       "  'Web page': 'http://kitchengardencafe.co.uk/',\n",
       "  'Location': 'Birmingham'},\n",
       " {'Restaurant': 'The Plough Harborne',\n",
       "  'Web page': 'http://theploughharborne.co.uk',\n",
       "  'Location': 'Birmingham'},\n",
       " {'Restaurant': 'Pump Street Bakery',\n",
       "  'Web page': 'http://www.pumpstreetbakery.com/',\n",
       "  'Location': 'Orford, Suffolk'},\n",
       " {'Restaurant': 'Sardaar,', 'Web page': '', 'Location': 'Leicester'},\n",
       " {'Restaurant': 'Super Sausage Cafe',\n",
       "  'Web page': 'http://supersausagecafe.co.uk/',\n",
       "  'Location': 'Potterspury, Northamptonshire'},\n",
       " {'Restaurant': 'Delilah',\n",
       "  'Web page': 'https://www.delilahfinefoods.co.uk/',\n",
       "  'Location': 'Nottingham'},\n",
       " {'Restaurant': 'Vaughan’s Sandwich Bar',\n",
       "  'Web page': 'https://www.facebook.com/Vaughans-Sandwich-Bar-851438514907196/',\n",
       "  'Location': 'Ludlow, Shropshire'},\n",
       " {'Restaurant': 'Yorks Bakery Cafe',\n",
       "  'Web page': 'http://www.yorksbakerycafe.co.uk',\n",
       "  'Location': 'Birmingham'},\n",
       " {'Restaurant': 'London', 'Web page': '', 'Location': 'London'},\n",
       " {'Restaurant': 'Pistachio & Pickle',\n",
       "  'Web page': 'http://www.pistachioandpickle.com',\n",
       "  'Location': 'N1'},\n",
       " {'Restaurant': 'Archibald’s',\n",
       "  'Web page': 'http://www.archibalds-coffee.co.uk/',\n",
       "  'Location': 'SE12'},\n",
       " {'Restaurant': 'Bellanger',\n",
       "  'Web page': 'https://www.bellanger.co.uk/breakfast',\n",
       "  'Location': 'N1'},\n",
       " {'Restaurant': 'Dishoom',\n",
       "  'Web page': 'http://www.dishoom.com',\n",
       "  'Location': 'various locations'},\n",
       " {'Restaurant': 'The Gallery Cafe',\n",
       "  'Web page': 'http://www.stmargaretshouse.org.uk/thegallerycafe',\n",
       "  'Location': 'E2'},\n",
       " {'Restaurant': 'Honey & Co',\n",
       "  'Web page': 'http://www.honeyandco.co.uk',\n",
       "  'Location': 'W1T'},\n",
       " {'Restaurant': 'Mud',\n",
       "  'Web page': 'http://mudtooting.co.uk/',\n",
       "  'Location': 'SW17'},\n",
       " {'Restaurant': 'St John Bread & Wine',\n",
       "  'Web page': 'https://www.stjohngroup.uk.com/spitalfields',\n",
       "  'Location': 'E1'},\n",
       " {'Restaurant': 'Scotland', 'Web page': '', 'Location': 'Scotland'},\n",
       " {'Restaurant': 'William Café, Glasgow',\n",
       "  'Web page': '',\n",
       "  'Location': 'William Café, Glasgow'},\n",
       " {'Restaurant': 'Café Gandolfi',\n",
       "  'Web page': 'http://www.cafegandolfi.com/',\n",
       "  'Location': 'Glasgow'},\n",
       " {'Restaurant': 'The Gardener’s Cottage',\n",
       "  'Web page': 'http://www.thegardenerscottage.co/',\n",
       "  'Location': 'Edinburgh'},\n",
       " {'Restaurant': 'Mountain Cafe',\n",
       "  'Web page': 'http://mountaincafe-aviemore.co.uk/',\n",
       "  'Location': 'Aviemore, Highland'},\n",
       " {'Restaurant': 'The Ship on the Shore',\n",
       "  'Web page': 'http://www.theshipontheshore.co.uk',\n",
       "  'Location': 'Edinburgh'},\n",
       " {'Restaurant': 'Harbourmaster',\n",
       "  'Web page': 'http://www.harbour-master.com/',\n",
       "  'Location': 'Aberaeron, Ceredigion'},\n",
       " {'Restaurant': 'Garlands',\n",
       "  'Web page': 'http://garlandscoffee.co.uk/',\n",
       "  'Location': 'Cardiff'},\n",
       " {'Restaurant': 'Established',\n",
       "  'Web page': 'http://www.established.coffee',\n",
       "  'Location': 'Belfast'},\n",
       " {'Restaurant': 'General Merchants',\n",
       "  'Web page': 'http://generalmerchants.co.uk/',\n",
       "  'Location': 'Belfast'},\n",
       " {'Restaurant': 'McCartney’s of Moira',\n",
       "  'Web page': 'http://www.mccartneysofmoira.com/',\n",
       "  'Location': 'Moira, County Down'},\n",
       " {'Restaurant': 'Coombeshead Farm',\n",
       "  'Web page': 'http://www.coombesheadfarm.co.uk/',\n",
       "  'Location': 'Lewannick, Cornwall'},\n",
       " {'Restaurant': 'Café Alf Resco',\n",
       "  'Web page': 'http://cafealfresco.co.uk/page/eat',\n",
       "  'Location': 'Dartmouth, Devon'},\n",
       " {'Restaurant': 'Venus Cafe,',\n",
       "  'Web page': 'http://www.lovingthebeach.co.uk/blackpool-sands/',\n",
       "  'Location': 'Blackpool Sands, Devon'},\n",
       " {'Restaurant': 'Bakers and Co',\n",
       "  'Web page': 'http://bakersbristol.co.uk/',\n",
       "  'Location': 'Bristol'},\n",
       " {'Restaurant': 'Cantina',\n",
       "  'Web page': 'http://cantinaventnor.co.uk/',\n",
       "  'Location': 'Ventnor, Isle of Wight'},\n",
       " {'Restaurant': 'Hart’s Bakery',\n",
       "  'Web page': 'http://www.hartsbakery.co.uk/',\n",
       "  'Location': 'Bristol'},\n",
       " {'Restaurant': 'The Jericho Cafe',\n",
       "  'Web page': 'http://www.thejerichocafe.co.uk/',\n",
       "  'Location': 'Oxford'},\n",
       " {'Restaurant': 'Lynwood & Co',\n",
       "  'Web page': 'https://www.facebook.com/pg/lynwoodandcocafe/about/',\n",
       "  'Location': 'Lynwood & Co, Lechlade, Gloucestershire'},\n",
       " {'Restaurant': 'Saddleback Farm Shop',\n",
       "  'Web page': 'http://www.saddlebackfarmshop.co.uk/',\n",
       "  'Location': 'Brightwalton, Berkshire'},\n",
       " {'Restaurant': 'Workhouse Coffee',\n",
       "  'Web page': 'http://www.workhousecoffee.co.uk/',\n",
       "  'Location': 'Reading'},\n",
       " {'Restaurant': 'The Greedy Pig Kitchen',\n",
       "  'Web page': 'http://www.thegreedypigkitchen.co.uk/',\n",
       "  'Location': 'Leeds'},\n",
       " {'Restaurant': 'Laynes',\n",
       "  'Web page': 'http://www.laynesespresso.co.uk/#laynesespresso',\n",
       "  'Location': 'Leeds'},\n",
       " {'Restaurant': 'The Pig & Pastry',\n",
       "  'Web page': 'http://thepigandpastry.com/',\n",
       "  'Location': 'York'},\n",
       " {'Restaurant': 'Starks Kitchen',\n",
       "  'Web page': 'http://starkskitchen.co.uk/',\n",
       "  'Location': 'Newcastle upon Tyne'},\n",
       " {'Restaurant': 'Tamper Coffee',\n",
       "  'Web page': 'https://tampercoffee.co.uk/',\n",
       "  'Location': 'Sheffield'},\n",
       " {'Restaurant': 'Quay Ingredient',\n",
       "  'Web page': 'http://quayingredient.co.uk/',\n",
       "  'Location': 'Newcastle upon Tyne'},\n",
       " {'Restaurant': 'Market House',\n",
       "  'Web page': 'http://www.altrinchammarket.co.uk/',\n",
       "  'Location': 'Altrincham'},\n",
       " {'Restaurant': 'Baba Ganoush',\n",
       "  'Web page': 'http://www.baba-ganoush.co.uk/',\n",
       "  'Location': 'Kendal, Cumbria'},\n",
       " {'Restaurant': 'Common',\n",
       "  'Web page': 'http://www.aplacecalledcommon.co.uk/',\n",
       "  'Location': 'Manchester'},\n",
       " {'Restaurant': 'The Koffee Pot',\n",
       "  'Web page': 'http://www.thekoffeepot.co.uk/',\n",
       "  'Location': 'The Koffee Pot'},\n",
       " {'Restaurant': 'Moose Coffee',\n",
       "  'Web page': 'http://www.moosecoffee.co/',\n",
       "  'Location': 'various locations'},\n",
       " {'Restaurant': 'Northcote',\n",
       "  'Web page': 'http://www.northcote.com/',\n",
       "  'Location': 'Langho, Lancashire'},\n",
       " {'Restaurant': 'Three Hares',\n",
       "  'Web page': 'http://www.threeharescafe.co.uk/#introduction',\n",
       "  'Location': 'Sedbergh, Cumbria'},\n",
       " {'Restaurant': 'No 33',\n",
       "  'Web page': 'http://www.no33cafe.co.uk/',\n",
       "  'Location': 'No 33'},\n",
       " {'Restaurant': 'Kitchen Garden Cafe',\n",
       "  'Web page': 'http://kitchengardencafe.co.uk/',\n",
       "  'Location': 'Birmingham'},\n",
       " {'Restaurant': 'The Plough Harborne',\n",
       "  'Web page': 'http://theploughharborne.co.uk',\n",
       "  'Location': 'Birmingham'},\n",
       " {'Restaurant': 'Pump Street Bakery',\n",
       "  'Web page': 'http://www.pumpstreetbakery.com/',\n",
       "  'Location': 'Orford, Suffolk'},\n",
       " {'Restaurant': 'Sardaar,', 'Web page': '', 'Location': 'Leicester'},\n",
       " {'Restaurant': 'Super Sausage Cafe',\n",
       "  'Web page': 'http://supersausagecafe.co.uk/',\n",
       "  'Location': 'Potterspury, Northamptonshire'},\n",
       " {'Restaurant': 'Delilah',\n",
       "  'Web page': 'https://www.delilahfinefoods.co.uk/',\n",
       "  'Location': 'Nottingham'},\n",
       " {'Restaurant': 'Vaughan’s Sandwich Bar',\n",
       "  'Web page': 'https://www.facebook.com/Vaughans-Sandwich-Bar-851438514907196/',\n",
       "  'Location': 'Ludlow, Shropshire'},\n",
       " {'Restaurant': 'Yorks Bakery Cafe',\n",
       "  'Web page': 'http://www.yorksbakerycafe.co.uk',\n",
       "  'Location': 'Birmingham'},\n",
       " {'Restaurant': 'Pistachio & Pickle',\n",
       "  'Web page': 'http://www.pistachioandpickle.com',\n",
       "  'Location': 'N1'},\n",
       " {'Restaurant': 'Archibald’s',\n",
       "  'Web page': 'http://www.archibalds-coffee.co.uk/',\n",
       "  'Location': 'SE12'},\n",
       " {'Restaurant': 'Bellanger',\n",
       "  'Web page': 'https://www.bellanger.co.uk/breakfast',\n",
       "  'Location': 'N1'},\n",
       " {'Restaurant': 'Dishoom',\n",
       "  'Web page': 'http://www.dishoom.com',\n",
       "  'Location': 'various locations'},\n",
       " {'Restaurant': 'The Gallery Cafe',\n",
       "  'Web page': 'http://www.stmargaretshouse.org.uk/thegallerycafe',\n",
       "  'Location': 'E2'},\n",
       " {'Restaurant': 'Honey & Co',\n",
       "  'Web page': 'http://www.honeyandco.co.uk',\n",
       "  'Location': 'W1T'},\n",
       " {'Restaurant': 'Mud',\n",
       "  'Web page': 'http://mudtooting.co.uk/',\n",
       "  'Location': 'SW17'},\n",
       " {'Restaurant': 'St John Bread & Wine',\n",
       "  'Web page': 'https://www.stjohngroup.uk.com/spitalfields',\n",
       "  'Location': 'E1'},\n",
       " {'Restaurant': 'William Café, Glasgow',\n",
       "  'Web page': '',\n",
       "  'Location': 'William Café, Glasgow'},\n",
       " {'Restaurant': 'Café Gandolfi',\n",
       "  'Web page': 'http://www.cafegandolfi.com/',\n",
       "  'Location': 'Glasgow'},\n",
       " {'Restaurant': 'The Gardener’s Cottage',\n",
       "  'Web page': 'http://www.thegardenerscottage.co/',\n",
       "  'Location': 'Edinburgh'},\n",
       " {'Restaurant': 'Mountain Cafe',\n",
       "  'Web page': 'http://mountaincafe-aviemore.co.uk/',\n",
       "  'Location': 'Aviemore, Highland'},\n",
       " {'Restaurant': 'The Ship on the Shore',\n",
       "  'Web page': 'http://www.theshipontheshore.co.uk',\n",
       "  'Location': 'Edinburgh'},\n",
       " {'Restaurant': 'Harbourmaster',\n",
       "  'Web page': 'http://www.harbour-master.com/',\n",
       "  'Location': 'Aberaeron, Ceredigion'},\n",
       " {'Restaurant': 'Garlands',\n",
       "  'Web page': 'http://garlandscoffee.co.uk/',\n",
       "  'Location': 'Cardiff'},\n",
       " {'Restaurant': 'Established',\n",
       "  'Web page': 'http://www.established.coffee',\n",
       "  'Location': 'Belfast'},\n",
       " {'Restaurant': 'General Merchants',\n",
       "  'Web page': 'http://generalmerchants.co.uk/',\n",
       "  'Location': 'Belfast'},\n",
       " {'Restaurant': 'McCartney’s of Moira',\n",
       "  'Web page': 'http://www.mccartneysofmoira.com/',\n",
       "  'Location': 'Moira, County Down'}]"
      ]
     },
     "execution_count": 17,
     "metadata": {},
     "output_type": "execute_result"
    }
   ],
   "source": [
    "filtered_results = [results[0]]\n",
    "current = results[0]\n",
    "while current.next_sibling:\n",
    "    current = current.next_sibling\n",
    "    if current.name == 'h2':\n",
    "        filtered_results.append(current)\n",
    "len(filtered_results)\n",
    "\n",
    "for result in filtered_results:\n",
    "    link = result.find('a') # find link\n",
    "    try:\n",
    "        name = link.text\n",
    "        url = link['href'] # get link address\n",
    "    except AttributeError:\n",
    "        name = result.find('strong').text\n",
    "        url = ''\n",
    "    if len(result.find_all('strong')) == 2:\n",
    "        location = result.find_all('strong')[1].text\n",
    "    else:\n",
    "        location = result.find('strong').text\n",
    "    location = location.lstrip(', ')\n",
    "    result_list.append({'Restaurant':name,'Web page':url, 'Location':location})\n",
    "    \n",
    "result_list"
   ]
  },
  {
   "cell_type": "markdown",
   "metadata": {},
   "source": [
    "Once you have your results, you can use the following code to write the dictionary into a csv file with the `csv` library."
   ]
  },
  {
   "cell_type": "code",
   "execution_count": 8,
   "metadata": {},
   "outputs": [],
   "source": [
    "import csv\n",
    "\n",
    "# File column names\n",
    "csv_columns = ['Location','Restaurant','Web page']\n",
    "\n",
    "with open('best_breakfast_guardian.csv', 'w', newline='') as csvfile:\n",
    "    writer = csv.DictWriter(csvfile, fieldnames=csv_columns)\n",
    "    writer.writeheader() # header row\n",
    "    for rest in result_list: # rest of rows\n",
    "        writer.writerow(rest)"
   ]
  },
  {
   "cell_type": "markdown",
   "metadata": {},
   "source": [
    "## Scraping the web\n",
    "\n",
    "As you've seen with the example, web scraping can easily get messy. The less structured the data that we're trying to gather is, the more tricky it is to structure it. In practice, web scraping works best for \n",
    "* Structured pages. The page we've just scraped is a text article with some header structure. Scraping data from tables or other more structured forms is often much easier. \n",
    "* Static pages. Accessing dynamic content (eg JavaScript) is often impossible through the standard HTML approach we have used. Alternative ways exists, but require more work.\n",
    "\n",
    "Compared to downloading a file or using an API, web scraping is a fragile way to access a site. The HTML page could be changed, breaking your scraper, whereas APIs are often well maintained and robust. \n",
    "\n",
    "You'll have noticed that it would be very easy to crawl through a lot of pages on a site very quickly by looping requests, for example, looking for business analytics positions on an online jobs platform. But note that many websites don't like crawlers: The Guardian's business model, for instance, depends on ad revenues, so they don't like their content being automatically accessed. Here we've downloaded just one page, but if you ran a big scraping operation on them, they might ban you (and your flatmates). They do have an [API](http://open-platform.theguardian.com/access/) for accessing content.\n",
    "\n",
    "In brief, scraping can be a powerful tool, but if there's an alternative way to get the data you need, don't scrape manually. \n",
    "\n",
    "Here are some further resources on scraping:\n",
    "* [The Beautiful Soup documentation](http://www.crummy.com/software/BeautifulSoup/bs4/doc/) is very well written\n",
    "* [A success story with scraping](https://www.wired.com/2014/01/how-to-hack-okcupid/all/)\n",
    "* [A nice and well-documented application on the NY Times website](http://www.dataschool.io/python-web-scraping-of-president-trumps-lies/)\n",
    "* [Web data collection tasks from Stanford's Computational Journalism lab](https://github.com/stanfordjournalism/search-script-scrape), mostly through various US government APIs"
   ]
  }
 ],
 "metadata": {
  "kernelspec": {
   "display_name": "Python 3",
   "language": "python",
   "name": "python3"
  },
  "language_info": {
   "codemirror_mode": {
    "name": "ipython",
    "version": 3
   },
   "file_extension": ".py",
   "mimetype": "text/x-python",
   "name": "python",
   "nbconvert_exporter": "python",
   "pygments_lexer": "ipython3",
   "version": "3.7.0"
  }
 },
 "nbformat": 4,
 "nbformat_minor": 2
}
